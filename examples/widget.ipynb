{
 "cells": [
  {
   "cell_type": "code",
   "execution_count": 1,
   "id": "bb33e6ce-993f-44f5-b606-aa26da9f3d7f",
   "metadata": {
    "tags": []
   },
   "outputs": [],
   "source": [
    "from jupysql_plugin.widget import ExampleWidget, StockTableWidget"
   ]
  },
  {
   "cell_type": "code",
   "execution_count": 2,
   "id": "8087a8e2-e20a-47ca-8899-9ae63246a953",
   "metadata": {
    "tags": []
   },
   "outputs": [
    {
     "data": {
      "application/vnd.jupyter.widget-view+json": {
       "model_id": "d4d85f7459e94c5085b7716b6cdac09f",
       "version_major": 2,
       "version_minor": 0
      },
      "text/plain": [
       "ExampleWidget()"
      ]
     },
     "execution_count": 2,
     "metadata": {},
     "output_type": "execute_result"
    }
   ],
   "source": [
    "ExampleWidget()"
   ]
  },
  {
   "cell_type": "code",
   "execution_count": 3,
   "id": "35fce517-81d8-47e1-a0d6-a73ea743bcb5",
   "metadata": {},
   "outputs": [
    {
     "data": {
      "application/vnd.jupyter.widget-view+json": {
       "model_id": "51d88c80ddb34cb881c8bba3518cc7d5",
       "version_major": 2,
       "version_minor": 0
      },
      "text/plain": [
       "StockTableWidget()"
      ]
     },
     "execution_count": 3,
     "metadata": {},
     "output_type": "execute_result"
    }
   ],
   "source": [
    "StockTableWidget()"
   ]
  }
 ],
 "metadata": {
  "kernelspec": {
   "display_name": "Python 3 (ipykernel)",
   "language": "python",
   "name": "python3"
  },
  "language_info": {
   "codemirror_mode": {
    "name": "ipython",
    "version": 3
   },
   "file_extension": ".py",
   "mimetype": "text/x-python",
   "name": "python",
   "nbconvert_exporter": "python",
   "pygments_lexer": "ipython3",
   "version": "3.11.2"
  }
 },
 "nbformat": 4,
 "nbformat_minor": 5
}
