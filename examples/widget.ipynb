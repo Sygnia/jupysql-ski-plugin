{
 "cells": [
  {
   "cell_type": "code",
   "execution_count": 1,
   "id": "bb33e6ce-993f-44f5-b606-aa26da9f3d7f",
   "metadata": {
    "tags": []
   },
   "outputs": [],
   "source": [
    "from jupysql_plugin.widget import ExampleWidget"
   ]
  },
  {
   "cell_type": "code",
   "execution_count": 2,
   "id": "8087a8e2-e20a-47ca-8899-9ae63246a953",
   "metadata": {
    "tags": []
   },
   "outputs": [
    {
     "data": {
      "application/vnd.jupyter.widget-view+json": {
       "model_id": "1dc3fd86329d44bfbc2996446803f3bf",
       "version_major": 2,
       "version_minor": 0
      },
      "text/plain": [
       "ExampleWidget()"
      ]
     },
     "execution_count": 2,
     "metadata": {},
     "output_type": "execute_result"
    }
   ],
   "source": [
    "ExampleWidget()"
   ]
  },
  {
   "cell_type": "code",
   "execution_count": 5,
   "id": "35fce517-81d8-47e1-a0d6-a73ea743bcb5",
   "metadata": {},
   "outputs": [
    {
     "data": {
      "text/html": [
       "<link rel=\"stylesheet\" href=\"/nbextensions/@jupyterlab/ui-components/style/index.css\">\n",
       "\n",
       "<form id=\"myForm\" class=\"jp-form\">\n",
       "  <div class=\"jp-form-input\">\n",
       "    <label for=\"dropdown\">Dropdown</label>\n",
       "    <select id=\"dropdown\" name=\"dropdown\">\n",
       "      <option value=\"A\">A</option>\n",
       "      <option value=\"B\">B</option>\n",
       "    </select>\n",
       "  </div>\n",
       "\n",
       "  <div class=\"jp-form-input\">\n",
       "    <label for=\"port\">Port</label>\n",
       "    <input type=\"number\" id=\"port\" name=\"port\">\n",
       "  </div>\n",
       "\n",
       "  <div id=\"confirmationMessage\"></div>\n",
       "\n",
       "  <button type=\"submit\" class=\"jp-mod-styled jp-mod-primary\">Submit</button>\n",
       "</form>\n"
      ],
      "text/plain": [
       "<IPython.core.display.HTML object>"
      ]
     },
     "metadata": {},
     "output_type": "display_data"
    }
   ],
   "source": [
    "%%"
   ]
  },
  {
   "cell_type": "code",
   "execution_count": null,
   "id": "073752d3-4ab3-4043-8e89-2670dd08b6d4",
   "metadata": {},
   "outputs": [],
   "source": []
  }
 ],
 "metadata": {
  "kernelspec": {
   "display_name": "Python 3 (ipykernel)",
   "language": "python",
   "name": "python3"
  },
  "language_info": {
   "codemirror_mode": {
    "name": "ipython",
    "version": 3
   },
   "file_extension": ".py",
   "mimetype": "text/x-python",
   "name": "python",
   "nbconvert_exporter": "python",
   "pygments_lexer": "ipython3",
   "version": "3.11.2"
  }
 },
 "nbformat": 4,
 "nbformat_minor": 5
}
