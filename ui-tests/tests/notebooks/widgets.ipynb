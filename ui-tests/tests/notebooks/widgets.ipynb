{
 "cells": [
  {
   "cell_type": "code",
   "execution_count": 1,
   "id": "08aa1a85-674c-4865-8e06-7d056fb628bf",
   "metadata": {
    "tags": []
   },
   "outputs": [],
   "source": [
    "from jupysql_plugin.widget import ExampleWidget, StockTableWidget"
   ]
  },
  {
   "cell_type": "code",
   "execution_count": 2,
   "id": "25a04838-b858-4784-b29c-bf065591cb10",
   "metadata": {
    "tags": []
   },
   "outputs": [
    {
     "data": {
      "application/vnd.jupyter.widget-view+json": {
       "model_id": "5228c0d36313417f9d567174aea27ca6",
       "version_major": 2,
       "version_minor": 0
      },
      "text/plain": [
       "ExampleWidget()"
      ]
     },
     "execution_count": 2,
     "metadata": {},
     "output_type": "execute_result"
    }
   ],
   "source": [
    "ExampleWidget()"
   ]
  },
  {
   "cell_type": "code",
   "execution_count": 3,
   "id": "6a9a1060-668d-4364-93ba-5a46f624238c",
   "metadata": {
    "tags": []
   },
   "outputs": [
    {
     "data": {
      "application/vnd.jupyter.widget-view+json": {
       "model_id": "e9d80ec661464a8fad825aef6721a530",
       "version_major": 2,
       "version_minor": 0
      },
      "text/plain": [
       "StockTableWidget()"
      ]
     },
     "execution_count": 3,
     "metadata": {},
     "output_type": "execute_result"
    }
   ],
   "source": [
    "StockTableWidget()"
   ]
  }
 ],
 "metadata": {
  "kernelspec": {
   "display_name": "Python 3 (ipykernel)",
   "language": "python",
   "name": "python3"
  },
  "language_info": {
   "codemirror_mode": {
    "name": "ipython",
    "version": 3
   },
   "file_extension": ".py",
   "mimetype": "text/x-python",
   "name": "python",
   "nbconvert_exporter": "python",
   "pygments_lexer": "ipython3",
   "version": "3.11.2"
  }
 },
 "nbformat": 4,
 "nbformat_minor": 5
}
