{
 "cells": [
  {
   "cell_type": "code",
   "execution_count": 1,
   "id": "08aa1a85-674c-4865-8e06-7d056fb628bf",
   "metadata": {
    "tags": []
   },
   "outputs": [
    {
     "data": {
      "application/vnd.jupyter.widget-view+json": {
       "model_id": "c5825d6976814be88a2f1ead0f02e95d",
       "version_major": 2,
       "version_minor": 0
      },
      "text/plain": [
       "ExampleWidget()"
      ]
     },
     "execution_count": 1,
     "metadata": {},
     "output_type": "execute_result"
    }
   ],
   "source": [
    "from jupysql_plugin._widget import ExampleWidget, StockTableWidget\n",
    "\n",
    "ExampleWidget()"
   ]
  },
  {
   "cell_type": "code",
   "execution_count": 2,
   "id": "0890e3d8-44d0-4a3e-9dff-b1d430ad0832",
   "metadata": {
    "tags": []
   },
   "outputs": [
    {
     "data": {
      "application/vnd.jupyter.widget-view+json": {
       "model_id": "163ff40139844c9cae62f4929e525d8d",
       "version_major": 2,
       "version_minor": 0
      },
      "text/plain": [
       "StockTableWidget()"
      ]
     },
     "execution_count": 2,
     "metadata": {},
     "output_type": "execute_result"
    }
   ],
   "source": [
    "StockTableWidget()"
   ]
  }
 ],
 "metadata": {
  "kernelspec": {
   "display_name": "Python 3 (ipykernel)",
   "language": "python",
   "name": "python3"
  },
  "language_info": {
   "codemirror_mode": {
    "name": "ipython",
    "version": 3
   },
   "file_extension": ".py",
   "mimetype": "text/x-python",
   "name": "python",
   "nbconvert_exporter": "python",
   "pygments_lexer": "ipython3",
   "version": "3.11.3"
  }
 },
 "nbformat": 4,
 "nbformat_minor": 5
}
